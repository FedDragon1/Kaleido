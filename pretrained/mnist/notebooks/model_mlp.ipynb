{
 "cells": [
  {
   "cell_type": "code",
   "metadata": {
    "collapsed": true,
    "ExecuteTime": {
     "end_time": "2024-04-30T21:45:32.643233Z",
     "start_time": "2024-04-30T21:45:31.185501Z"
    }
   },
   "source": [
    "import pandas as pd\n",
    "from networks import *"
   ],
   "outputs": [],
   "execution_count": 1
  },
  {
   "cell_type": "code",
   "metadata": {
    "ExecuteTime": {
     "end_time": "2024-04-30T21:45:35.100231Z",
     "start_time": "2024-04-30T21:45:32.644191Z"
    }
   },
   "source": [
    "df_train = pd.read_csv(\"../dataset/mnist_train.csv\")"
   ],
   "outputs": [],
   "execution_count": 2
  },
  {
   "cell_type": "code",
   "metadata": {
    "ExecuteTime": {
     "end_time": "2024-04-30T21:45:35.317195Z",
     "start_time": "2024-04-30T21:45:35.100995Z"
    }
   },
   "source": [
    "y_train = df_train[\"label\"].to_numpy()\n",
    "y_train = index_to_onehot(10, y_train)\n",
    "x_train = df_train.loc[:, df_train.columns!='label']\n",
    "x_train = x_train.to_numpy() / 255"
   ],
   "outputs": [],
   "execution_count": 3
  },
  {
   "cell_type": "code",
   "metadata": {
    "ExecuteTime": {
     "end_time": "2024-04-30T21:45:35.332155Z",
     "start_time": "2024-04-30T21:45:35.318193Z"
    }
   },
   "source": [
    "x_train.shape"
   ],
   "outputs": [
    {
     "data": {
      "text/plain": [
       "(60000, 784)"
      ]
     },
     "execution_count": 4,
     "metadata": {},
     "output_type": "execute_result"
    }
   ],
   "execution_count": 4
  },
  {
   "cell_type": "code",
   "metadata": {
    "ExecuteTime": {
     "end_time": "2024-04-30T21:45:35.761241Z",
     "start_time": "2024-04-30T21:45:35.333152Z"
    }
   },
   "source": [
    "df_test = pd.read_csv(\"../dataset/mnist_test.csv\")"
   ],
   "outputs": [],
   "execution_count": 5
  },
  {
   "cell_type": "code",
   "metadata": {
    "ExecuteTime": {
     "end_time": "2024-04-30T21:45:35.807116Z",
     "start_time": "2024-04-30T21:45:35.762212Z"
    }
   },
   "source": [
    "y_test = df_test[\"label\"].to_numpy()\n",
    "# y_test = index_to_onehot(10, y_test)\n",
    "x_test = df_test.loc[:, df_test.columns!='label'].to_numpy() / 255"
   ],
   "outputs": [],
   "execution_count": 6
  },
  {
   "cell_type": "code",
   "metadata": {
    "ExecuteTime": {
     "end_time": "2024-04-30T21:45:35.822051Z",
     "start_time": "2024-04-30T21:45:35.808090Z"
    }
   },
   "source": [
    "y_test"
   ],
   "outputs": [
    {
     "data": {
      "text/plain": [
       "array([7, 2, 1, ..., 4, 5, 6], dtype=int64)"
      ]
     },
     "execution_count": 7,
     "metadata": {},
     "output_type": "execute_result"
    }
   ],
   "execution_count": 7
  },
  {
   "cell_type": "code",
   "metadata": {
    "ExecuteTime": {
     "end_time": "2024-04-30T21:45:40.103229Z",
     "start_time": "2024-04-30T21:45:40.094232Z"
    }
   },
   "source": [
    "model = Sequential(\n",
    "    Input(784),\n",
    "    Dense(16),\n",
    "    Activation(\"leakyrelu\"),\n",
    "    Dense(16),\n",
    "    Activation(\"leakyrelu\"),\n",
    "    Dense(16),\n",
    "    Activation(\"leakyrelu\"),\n",
    "    Dense(10),\n",
    "    Activation(\"softmax\")\n",
    ")"
   ],
   "outputs": [],
   "execution_count": 8
  },
  {
   "cell_type": "code",
   "metadata": {
    "ExecuteTime": {
     "end_time": "2024-04-30T21:45:42.008394Z",
     "start_time": "2024-04-30T21:45:41.991440Z"
    }
   },
   "source": [
    "model.compile(\n",
    "    optimizer=Adam(),\n",
    "    loss=CrossEntropy(),\n",
    "    metrics=[MSE()]\n",
    ")"
   ],
   "outputs": [],
   "execution_count": 9
  },
  {
   "cell_type": "code",
   "metadata": {
    "ExecuteTime": {
     "end_time": "2024-04-30T21:45:44.755927Z",
     "start_time": "2024-04-30T21:45:44.735481Z"
    }
   },
   "source": [
    "model.summary()"
   ],
   "outputs": [
    {
     "data": {
      "text/plain": [
       "\u001B[33mLayer #   Type                          Output Shape                  Param #                       \u001B[0m\n",
       "====================================================================================================\n",
       "\u001B[1;36m1\u001B[0m         \u001B[32mInput                         \u001B[0m\u001B[1m(\u001B[0m\u001B[1;36m784\u001B[0m,\u001B[1m)\u001B[0m                        \u001B[1;36m0\u001B[0m                             \n",
       "\u001B[1;36m2\u001B[0m         \u001B[32mDense                         \u001B[0m\u001B[1m(\u001B[0m\u001B[1;36m16\u001B[0m,\u001B[1m)\u001B[0m                         \u001B[1;36m12560\u001B[0m                         \n",
       "\u001B[1;36m3\u001B[0m         \u001B[32mLeakyReLU                     \u001B[0m\u001B[1m(\u001B[0m\u001B[1;36m16\u001B[0m,\u001B[1m)\u001B[0m                         \u001B[1;36m0\u001B[0m                             \n",
       "\u001B[1;36m4\u001B[0m         \u001B[32mDense                         \u001B[0m\u001B[1m(\u001B[0m\u001B[1;36m16\u001B[0m,\u001B[1m)\u001B[0m                         \u001B[1;36m272\u001B[0m                           \n",
       "\u001B[1;36m5\u001B[0m         \u001B[32mLeakyReLU                     \u001B[0m\u001B[1m(\u001B[0m\u001B[1;36m16\u001B[0m,\u001B[1m)\u001B[0m                         \u001B[1;36m0\u001B[0m                             \n",
       "\u001B[1;36m6\u001B[0m         \u001B[32mDense                         \u001B[0m\u001B[1m(\u001B[0m\u001B[1;36m16\u001B[0m,\u001B[1m)\u001B[0m                         \u001B[1;36m272\u001B[0m                           \n",
       "\u001B[1;36m7\u001B[0m         \u001B[32mLeakyReLU                     \u001B[0m\u001B[1m(\u001B[0m\u001B[1;36m16\u001B[0m,\u001B[1m)\u001B[0m                         \u001B[1;36m0\u001B[0m                             \n",
       "\u001B[1;36m8\u001B[0m         \u001B[32mDense                         \u001B[0m\u001B[1m(\u001B[0m\u001B[1;36m10\u001B[0m,\u001B[1m)\u001B[0m                         \u001B[1;36m170\u001B[0m                           \n",
       "\u001B[1;36m9\u001B[0m         \u001B[32mSoftMax                       \u001B[0m\u001B[1m(\u001B[0m\u001B[1;36m10\u001B[0m,\u001B[1m)\u001B[0m                         \u001B[1;36m0\u001B[0m                             \n",
       "====================================================================================================\n",
       "\u001B[33mTotal params:                                                         \u001B[0m\u001B[1;33m13274\u001B[0m\n"
      ],
      "text/html": [
       "<pre style=\"white-space:pre;overflow-x:auto;line-height:normal;font-family:Menlo,'DejaVu Sans Mono',consolas,'Courier New',monospace\"><span style=\"color: #808000; text-decoration-color: #808000\">Layer #   Type                          Output Shape                  Param #                       </span>\n",
       "====================================================================================================\n",
       "<span style=\"color: #008080; text-decoration-color: #008080; font-weight: bold\">1</span>         <span style=\"color: #008000; text-decoration-color: #008000\">Input                         </span><span style=\"font-weight: bold\">(</span><span style=\"color: #008080; text-decoration-color: #008080; font-weight: bold\">784</span>,<span style=\"font-weight: bold\">)</span>                        <span style=\"color: #008080; text-decoration-color: #008080; font-weight: bold\">0</span>                             \n",
       "<span style=\"color: #008080; text-decoration-color: #008080; font-weight: bold\">2</span>         <span style=\"color: #008000; text-decoration-color: #008000\">Dense                         </span><span style=\"font-weight: bold\">(</span><span style=\"color: #008080; text-decoration-color: #008080; font-weight: bold\">16</span>,<span style=\"font-weight: bold\">)</span>                         <span style=\"color: #008080; text-decoration-color: #008080; font-weight: bold\">12560</span>                         \n",
       "<span style=\"color: #008080; text-decoration-color: #008080; font-weight: bold\">3</span>         <span style=\"color: #008000; text-decoration-color: #008000\">LeakyReLU                     </span><span style=\"font-weight: bold\">(</span><span style=\"color: #008080; text-decoration-color: #008080; font-weight: bold\">16</span>,<span style=\"font-weight: bold\">)</span>                         <span style=\"color: #008080; text-decoration-color: #008080; font-weight: bold\">0</span>                             \n",
       "<span style=\"color: #008080; text-decoration-color: #008080; font-weight: bold\">4</span>         <span style=\"color: #008000; text-decoration-color: #008000\">Dense                         </span><span style=\"font-weight: bold\">(</span><span style=\"color: #008080; text-decoration-color: #008080; font-weight: bold\">16</span>,<span style=\"font-weight: bold\">)</span>                         <span style=\"color: #008080; text-decoration-color: #008080; font-weight: bold\">272</span>                           \n",
       "<span style=\"color: #008080; text-decoration-color: #008080; font-weight: bold\">5</span>         <span style=\"color: #008000; text-decoration-color: #008000\">LeakyReLU                     </span><span style=\"font-weight: bold\">(</span><span style=\"color: #008080; text-decoration-color: #008080; font-weight: bold\">16</span>,<span style=\"font-weight: bold\">)</span>                         <span style=\"color: #008080; text-decoration-color: #008080; font-weight: bold\">0</span>                             \n",
       "<span style=\"color: #008080; text-decoration-color: #008080; font-weight: bold\">6</span>         <span style=\"color: #008000; text-decoration-color: #008000\">Dense                         </span><span style=\"font-weight: bold\">(</span><span style=\"color: #008080; text-decoration-color: #008080; font-weight: bold\">16</span>,<span style=\"font-weight: bold\">)</span>                         <span style=\"color: #008080; text-decoration-color: #008080; font-weight: bold\">272</span>                           \n",
       "<span style=\"color: #008080; text-decoration-color: #008080; font-weight: bold\">7</span>         <span style=\"color: #008000; text-decoration-color: #008000\">LeakyReLU                     </span><span style=\"font-weight: bold\">(</span><span style=\"color: #008080; text-decoration-color: #008080; font-weight: bold\">16</span>,<span style=\"font-weight: bold\">)</span>                         <span style=\"color: #008080; text-decoration-color: #008080; font-weight: bold\">0</span>                             \n",
       "<span style=\"color: #008080; text-decoration-color: #008080; font-weight: bold\">8</span>         <span style=\"color: #008000; text-decoration-color: #008000\">Dense                         </span><span style=\"font-weight: bold\">(</span><span style=\"color: #008080; text-decoration-color: #008080; font-weight: bold\">10</span>,<span style=\"font-weight: bold\">)</span>                         <span style=\"color: #008080; text-decoration-color: #008080; font-weight: bold\">170</span>                           \n",
       "<span style=\"color: #008080; text-decoration-color: #008080; font-weight: bold\">9</span>         <span style=\"color: #008000; text-decoration-color: #008000\">SoftMax                       </span><span style=\"font-weight: bold\">(</span><span style=\"color: #008080; text-decoration-color: #008080; font-weight: bold\">10</span>,<span style=\"font-weight: bold\">)</span>                         <span style=\"color: #008080; text-decoration-color: #008080; font-weight: bold\">0</span>                             \n",
       "====================================================================================================\n",
       "<span style=\"color: #808000; text-decoration-color: #808000\">Total params:                                                         </span><span style=\"color: #808000; text-decoration-color: #808000; font-weight: bold\">13274</span>\n",
       "</pre>\n"
      ]
     },
     "metadata": {},
     "output_type": "display_data"
    }
   ],
   "execution_count": 10
  },
  {
   "cell_type": "code",
   "metadata": {
    "ExecuteTime": {
     "end_time": "2024-04-30T21:51:07.775034Z",
     "start_time": "2024-04-30T21:45:47.951775Z"
    }
   },
   "source": [
    "model.fit(x_train, y_train, epochs=4000).plot()"
   ],
   "outputs": [
    {
     "data": {
      "text/plain": [
       "Output()"
      ],
      "application/vnd.jupyter.widget-view+json": {
       "version_major": 2,
       "version_minor": 0,
       "model_id": "8cfe7fe215c14e8dadd631b4fdf375c4"
      }
     },
     "metadata": {},
     "output_type": "display_data"
    },
    {
     "data": {
      "text/plain": [],
      "text/html": [
       "<pre style=\"white-space:pre;overflow-x:auto;line-height:normal;font-family:Menlo,'DejaVu Sans Mono',consolas,'Courier New',monospace\"></pre>\n"
      ]
     },
     "metadata": {},
     "output_type": "display_data"
    },
    {
     "data": {
      "text/plain": [
       "\n"
      ],
      "text/html": [
       "<pre style=\"white-space:pre;overflow-x:auto;line-height:normal;font-family:Menlo,'DejaVu Sans Mono',consolas,'Courier New',monospace\">\n",
       "</pre>\n"
      ]
     },
     "metadata": {},
     "output_type": "display_data"
    },
    {
     "data": {
      "text/plain": [
       "<Figure size 640x480 with 1 Axes>"
      ],
      "image/png": "[encoded data removed]"
     },
     "metadata": {},
     "output_type": "display_data"
    }
   ],
   "execution_count": 11
  },
  {
   "cell_type": "markdown",
   "metadata": {},
   "source": []
  },
  {
   "metadata": {},
   "cell_type": "markdown",
   "source": ""
  },
  {
   "cell_type": "code",
   "metadata": {
    "ExecuteTime": {
     "end_time": "2024-04-30T21:51:12.243612Z",
     "start_time": "2024-04-30T21:51:11.609250Z"
    }
   },
   "source": [
    "y_pred = model.predict(x_test)\n",
    "y_pred = np.argmax(y_pred, axis=1)\n",
    "f\"Accuracy: {np.sum(np.where(y_pred == y_test, 1, 0)) / 100}\""
   ],
   "outputs": [
    {
     "data": {
      "text/plain": [
       "'Accuracy: 86.0'"
      ]
     },
     "execution_count": 12,
     "metadata": {},
     "output_type": "execute_result"
    }
   ],
   "execution_count": 12
  },
  {
   "cell_type": "code",
   "execution_count": 59,
   "metadata": {},
   "outputs": [],
   "source": [
    "model.plot_metrics()"
   ]
  },
  {
   "cell_type": "code",
   "execution_count": 57,
   "metadata": {},
   "outputs": [],
   "source": [
    "model.save(\"../models/mnist-86p.pkl\")"
   ]
  }
 ],
 "metadata": {
  "kernelspec": {
   "display_name": "Python 3 (ipykernel)",
   "language": "python",
   "name": "python3"
  },
  "language_info": {
   "codemirror_mode": {
    "name": "ipython",
    "version": 3
   },
   "file_extension": ".py",
   "mimetype": "text/x-python",
   "name": "python",
   "nbconvert_exporter": "python",
   "pygments_lexer": "ipython3",
   "version": "3.10.12"
  }
 },
 "nbformat": 4,
 "nbformat_minor": 1
}
